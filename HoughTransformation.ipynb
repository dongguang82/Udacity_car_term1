{
 "cells": [
  {
   "cell_type": "code",
   "execution_count": 4,
   "metadata": {},
   "outputs": [
    {
     "ename": "IndexError",
     "evalue": "index 0 is out of bounds for axis 0 with size 0",
     "output_type": "error",
     "traceback": [
      "\u001b[0;31m---------------------------------------------------------------------------\u001b[0m",
      "\u001b[0;31mIndexError\u001b[0m                                Traceback (most recent call last)",
      "\u001b[0;32m<ipython-input-4-a830777d0674>\u001b[0m in \u001b[0;36m<module>\u001b[0;34m()\u001b[0m\n\u001b[1;32m     64\u001b[0m             \u001b[0mi_rightslope\u001b[0m \u001b[0;34m=\u001b[0m \u001b[0mi_rightslope\u001b[0m\u001b[0;34m+\u001b[0m\u001b[0;36m1\u001b[0m\u001b[0;34m;\u001b[0m\u001b[0;34m\u001b[0m\u001b[0m\n\u001b[1;32m     65\u001b[0m         \u001b[0;32melse\u001b[0m\u001b[0;34m:\u001b[0m\u001b[0;34m\u001b[0m\u001b[0m\n\u001b[0;32m---> 66\u001b[0;31m             \u001b[0mrm\u001b[0m\u001b[0;34m[\u001b[0m\u001b[0mi_leftslope\u001b[0m\u001b[0;34m]\u001b[0m \u001b[0;34m=\u001b[0m \u001b[0mslope\u001b[0m\u001b[0;34m\u001b[0m\u001b[0m\n\u001b[0m\u001b[1;32m     67\u001b[0m             \u001b[0mrc\u001b[0m\u001b[0;34m[\u001b[0m\u001b[0mi_leftslope\u001b[0m\u001b[0;34m,\u001b[0m\u001b[0;34m:\u001b[0m\u001b[0;34m]\u001b[0m \u001b[0;34m=\u001b[0m \u001b[0mcenter\u001b[0m\u001b[0;34m\u001b[0m\u001b[0m\n\u001b[1;32m     68\u001b[0m             \u001b[0mi_leftslope\u001b[0m \u001b[0;34m=\u001b[0m \u001b[0mi_leftslope\u001b[0m\u001b[0;34m+\u001b[0m\u001b[0;36m1\u001b[0m\u001b[0;34m;\u001b[0m\u001b[0;34m\u001b[0m\u001b[0m\n",
      "\u001b[0;31mIndexError\u001b[0m: index 0 is out of bounds for axis 0 with size 0"
     ]
    }
   ],
   "source": [
    "import matplotlib.pyplot as plt\n",
    "import matplotlib.image as mpimg\n",
    "import numpy as np\n",
    "import cv2\n",
    "%matplotlib inline\n",
    "\n",
    "# Read in and grayscale the image\n",
    "image = mpimg.imread('exit-ramp.jpg')\n",
    "gray = cv2.cvtColor(image,cv2.COLOR_RGB2GRAY)\n",
    "\n",
    "# Define a kernel size and apply Gaussian smoothing\n",
    "kernel_size = 5\n",
    "blur_gray = cv2.GaussianBlur(gray,(kernel_size, kernel_size),0)\n",
    "\n",
    "# Define our parameters for Canny and apply\n",
    "low_threshold = 50\n",
    "high_threshold = 150\n",
    "edges = cv2.Canny(blur_gray, low_threshold, high_threshold)\n",
    "\n",
    "# Next we'll create a masked edges image using cv2.fillPoly()\n",
    "mask = np.zeros_like(edges)   \n",
    "ignore_mask_color = 255   \n",
    "\n",
    "# This time we are defining a four sided polygon to mask\n",
    "imshape = image.shape\n",
    "vertices = np.array([[(0,imshape[0]),(imshape[1]/2, 300), (imshape[1]/2+1, 300), (imshape[1],imshape[0])]], dtype=np.int32)\n",
    "cv2.fillPoly(mask, vertices, ignore_mask_color)\n",
    "masked_edges = cv2.bitwise_and(edges, mask)\n",
    "\n",
    "# Define the Hough transform parameters\n",
    "# Make a blank the same size as our image to draw on\n",
    "rho = 1 # distance resolution in pixels of the Hough grid\n",
    "theta = np.pi/180 # angular resolution in radians of the Hough grid\n",
    "threshold = 15     # minimum number of votes (intersections in Hough grid cell)\n",
    "min_line_length = 20 #minimum number of pixels making up a line\n",
    "max_line_gap = 20    # maximum gap in pixels between connectable line segments\n",
    "line_image = np.copy(image)*0 # creating a blank to draw lines on\n",
    "\n",
    "# Run Hough on edge detected image\n",
    "# Output \"lines\" is an array containing endpoints of detected line segments\n",
    "lines = cv2.HoughLinesP(masked_edges, rho, theta, threshold, np.array([]),\n",
    "                            min_line_length, max_line_gap)\n",
    "#plt.imshow(line_image)\n",
    "lines.shape\n",
    "# Iterate over the output \"lines\" and draw lines on a blank image\n",
    "for line in lines:\n",
    "    for x1,y1,x2,y2 in line:\n",
    "        cv2.line(line_image,(x1,y1),(x2,y2),(255,0,0),10)\n",
    "#\n",
    "# connect the line segement and also do the extrapolation\n",
    "rm = np.array([])\n",
    "rc = np.array([])\n",
    "lm = np.array([])\n",
    "lc = np.array([])\n",
    "i_rightslope = 0\n",
    "i_leftslope = 0\n",
    "for line in lines:\n",
    "    for x1,y1,x2,y2 in line:\n",
    "        slope = (y2-y1)/(x2-x1)\n",
    "        center = [(x2+x1)/2,(y2+y1)/2]\n",
    "        if slope < 0:\n",
    "            rm[i_rightslope] = slope\n",
    "            rc[i_rightslope,:] = center\n",
    "            i_rightslope = i_rightslope+1;\n",
    "        else:\n",
    "            rm[i_leftslope] = slope\n",
    "            rc[i_leftslope,:] = center\n",
    "            i_leftslope = i_leftslope+1;\n",
    "            \n",
    "r_slope = np.sum(rm)/len(rm)\n",
    "l_slope = np.sum(lm)/len(lm)\n",
    "\n",
    "r_center = np.divide(np.sum(rc,axis=0),len(rc))\n",
    "l_center = np.divide(np.sum(lc,axis=0),len(lc))\n",
    "\n",
    "imshape = img.shape\n",
    "x1_l = (imshape[0]-l_center[1])/l_slope+l_center[0]\n",
    "x2_l = (imshape[0]/2-l_center[1])/l_slope+l_center[0] \n",
    "x1_r = (imshape[0]-r_center[1])/r_slope+r_center[0]\n",
    "x2_r = (imshape[0]/2-r_center[1])/r_slope+r_center[0] \n",
    "y1_l = imshape[0]\n",
    "y2_l = imshape[0]/2\n",
    "y1_r = imshape[0]\n",
    "y2_r = imshape[0]/2\n",
    "cv2.line(img, (x1_l, y1_l), (x2_l, y2_l), (x1_r, y1_r), (x2_r, y2_r), color, thickness)"
   ]
  },
  {
   "cell_type": "code",
   "execution_count": null,
   "metadata": {
    "collapsed": true
   },
   "outputs": [],
   "source": []
  }
 ],
 "metadata": {
  "kernelspec": {
   "display_name": "Python 3",
   "language": "python",
   "name": "python3"
  },
  "language_info": {
   "codemirror_mode": {
    "name": "ipython",
    "version": 3
   },
   "file_extension": ".py",
   "mimetype": "text/x-python",
   "name": "python",
   "nbconvert_exporter": "python",
   "pygments_lexer": "ipython3",
   "version": "3.5.2"
  },
  "widgets": {
   "state": {},
   "version": "1.1.2"
  }
 },
 "nbformat": 4,
 "nbformat_minor": 2
}
